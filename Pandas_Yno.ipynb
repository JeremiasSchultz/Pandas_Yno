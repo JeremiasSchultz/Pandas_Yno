{
  "nbformat": 4,
  "nbformat_minor": 0,
  "metadata": {
    "colab": {
      "provenance": [],
      "authorship_tag": "ABX9TyMMIvQV+jlRgTKawkLnudCh",
      "include_colab_link": true
    },
    "kernelspec": {
      "name": "python3",
      "display_name": "Python 3"
    },
    "language_info": {
      "name": "python"
    }
  },
  "cells": [
    {
      "cell_type": "markdown",
      "metadata": {
        "id": "view-in-github",
        "colab_type": "text"
      },
      "source": [
        "<a href=\"https://colab.research.google.com/github/JeremiasSchultz/Pandas_Yno/blob/main/Pandas_Yno.ipynb\" target=\"_parent\"><img src=\"https://colab.research.google.com/assets/colab-badge.svg\" alt=\"Open In Colab\"/></a>"
      ]
    },
    {
      "cell_type": "code",
      "execution_count": 55,
      "metadata": {
        "id": "WtQul3GsAl-y"
      },
      "outputs": [],
      "source": [
        "#import de bibliotecas \n",
        "import pandas as pd #pandas para data frames\n",
        "import numpy as np #calcunos numéricos\n"
      ]
    },
    {
      "cell_type": "code",
      "source": [
        "from google.colab import files\n",
        "uploaded = files.upload()\n"
      ],
      "metadata": {
        "colab": {
          "base_uri": "https://localhost:8080/",
          "height": 73
        },
        "id": "KMfAjZLhECXX",
        "outputId": "cf5b7626-4ca1-424d-8dae-62ca8c1696a8"
      },
      "execution_count": 56,
      "outputs": [
        {
          "output_type": "display_data",
          "data": {
            "text/plain": [
              "<IPython.core.display.HTML object>"
            ],
            "text/html": [
              "\n",
              "     <input type=\"file\" id=\"files-5c2354e9-0204-4bbc-b984-0d307aa302bb\" name=\"files[]\" multiple disabled\n",
              "        style=\"border:none\" />\n",
              "     <output id=\"result-5c2354e9-0204-4bbc-b984-0d307aa302bb\">\n",
              "      Upload widget is only available when the cell has been executed in the\n",
              "      current browser session. Please rerun this cell to enable.\n",
              "      </output>\n",
              "      <script>// Copyright 2017 Google LLC\n",
              "//\n",
              "// Licensed under the Apache License, Version 2.0 (the \"License\");\n",
              "// you may not use this file except in compliance with the License.\n",
              "// You may obtain a copy of the License at\n",
              "//\n",
              "//      http://www.apache.org/licenses/LICENSE-2.0\n",
              "//\n",
              "// Unless required by applicable law or agreed to in writing, software\n",
              "// distributed under the License is distributed on an \"AS IS\" BASIS,\n",
              "// WITHOUT WARRANTIES OR CONDITIONS OF ANY KIND, either express or implied.\n",
              "// See the License for the specific language governing permissions and\n",
              "// limitations under the License.\n",
              "\n",
              "/**\n",
              " * @fileoverview Helpers for google.colab Python module.\n",
              " */\n",
              "(function(scope) {\n",
              "function span(text, styleAttributes = {}) {\n",
              "  const element = document.createElement('span');\n",
              "  element.textContent = text;\n",
              "  for (const key of Object.keys(styleAttributes)) {\n",
              "    element.style[key] = styleAttributes[key];\n",
              "  }\n",
              "  return element;\n",
              "}\n",
              "\n",
              "// Max number of bytes which will be uploaded at a time.\n",
              "const MAX_PAYLOAD_SIZE = 100 * 1024;\n",
              "\n",
              "function _uploadFiles(inputId, outputId) {\n",
              "  const steps = uploadFilesStep(inputId, outputId);\n",
              "  const outputElement = document.getElementById(outputId);\n",
              "  // Cache steps on the outputElement to make it available for the next call\n",
              "  // to uploadFilesContinue from Python.\n",
              "  outputElement.steps = steps;\n",
              "\n",
              "  return _uploadFilesContinue(outputId);\n",
              "}\n",
              "\n",
              "// This is roughly an async generator (not supported in the browser yet),\n",
              "// where there are multiple asynchronous steps and the Python side is going\n",
              "// to poll for completion of each step.\n",
              "// This uses a Promise to block the python side on completion of each step,\n",
              "// then passes the result of the previous step as the input to the next step.\n",
              "function _uploadFilesContinue(outputId) {\n",
              "  const outputElement = document.getElementById(outputId);\n",
              "  const steps = outputElement.steps;\n",
              "\n",
              "  const next = steps.next(outputElement.lastPromiseValue);\n",
              "  return Promise.resolve(next.value.promise).then((value) => {\n",
              "    // Cache the last promise value to make it available to the next\n",
              "    // step of the generator.\n",
              "    outputElement.lastPromiseValue = value;\n",
              "    return next.value.response;\n",
              "  });\n",
              "}\n",
              "\n",
              "/**\n",
              " * Generator function which is called between each async step of the upload\n",
              " * process.\n",
              " * @param {string} inputId Element ID of the input file picker element.\n",
              " * @param {string} outputId Element ID of the output display.\n",
              " * @return {!Iterable<!Object>} Iterable of next steps.\n",
              " */\n",
              "function* uploadFilesStep(inputId, outputId) {\n",
              "  const inputElement = document.getElementById(inputId);\n",
              "  inputElement.disabled = false;\n",
              "\n",
              "  const outputElement = document.getElementById(outputId);\n",
              "  outputElement.innerHTML = '';\n",
              "\n",
              "  const pickedPromise = new Promise((resolve) => {\n",
              "    inputElement.addEventListener('change', (e) => {\n",
              "      resolve(e.target.files);\n",
              "    });\n",
              "  });\n",
              "\n",
              "  const cancel = document.createElement('button');\n",
              "  inputElement.parentElement.appendChild(cancel);\n",
              "  cancel.textContent = 'Cancel upload';\n",
              "  const cancelPromise = new Promise((resolve) => {\n",
              "    cancel.onclick = () => {\n",
              "      resolve(null);\n",
              "    };\n",
              "  });\n",
              "\n",
              "  // Wait for the user to pick the files.\n",
              "  const files = yield {\n",
              "    promise: Promise.race([pickedPromise, cancelPromise]),\n",
              "    response: {\n",
              "      action: 'starting',\n",
              "    }\n",
              "  };\n",
              "\n",
              "  cancel.remove();\n",
              "\n",
              "  // Disable the input element since further picks are not allowed.\n",
              "  inputElement.disabled = true;\n",
              "\n",
              "  if (!files) {\n",
              "    return {\n",
              "      response: {\n",
              "        action: 'complete',\n",
              "      }\n",
              "    };\n",
              "  }\n",
              "\n",
              "  for (const file of files) {\n",
              "    const li = document.createElement('li');\n",
              "    li.append(span(file.name, {fontWeight: 'bold'}));\n",
              "    li.append(span(\n",
              "        `(${file.type || 'n/a'}) - ${file.size} bytes, ` +\n",
              "        `last modified: ${\n",
              "            file.lastModifiedDate ? file.lastModifiedDate.toLocaleDateString() :\n",
              "                                    'n/a'} - `));\n",
              "    const percent = span('0% done');\n",
              "    li.appendChild(percent);\n",
              "\n",
              "    outputElement.appendChild(li);\n",
              "\n",
              "    const fileDataPromise = new Promise((resolve) => {\n",
              "      const reader = new FileReader();\n",
              "      reader.onload = (e) => {\n",
              "        resolve(e.target.result);\n",
              "      };\n",
              "      reader.readAsArrayBuffer(file);\n",
              "    });\n",
              "    // Wait for the data to be ready.\n",
              "    let fileData = yield {\n",
              "      promise: fileDataPromise,\n",
              "      response: {\n",
              "        action: 'continue',\n",
              "      }\n",
              "    };\n",
              "\n",
              "    // Use a chunked sending to avoid message size limits. See b/62115660.\n",
              "    let position = 0;\n",
              "    do {\n",
              "      const length = Math.min(fileData.byteLength - position, MAX_PAYLOAD_SIZE);\n",
              "      const chunk = new Uint8Array(fileData, position, length);\n",
              "      position += length;\n",
              "\n",
              "      const base64 = btoa(String.fromCharCode.apply(null, chunk));\n",
              "      yield {\n",
              "        response: {\n",
              "          action: 'append',\n",
              "          file: file.name,\n",
              "          data: base64,\n",
              "        },\n",
              "      };\n",
              "\n",
              "      let percentDone = fileData.byteLength === 0 ?\n",
              "          100 :\n",
              "          Math.round((position / fileData.byteLength) * 100);\n",
              "      percent.textContent = `${percentDone}% done`;\n",
              "\n",
              "    } while (position < fileData.byteLength);\n",
              "  }\n",
              "\n",
              "  // All done.\n",
              "  yield {\n",
              "    response: {\n",
              "      action: 'complete',\n",
              "    }\n",
              "  };\n",
              "}\n",
              "\n",
              "scope.google = scope.google || {};\n",
              "scope.google.colab = scope.google.colab || {};\n",
              "scope.google.colab._files = {\n",
              "  _uploadFiles,\n",
              "  _uploadFilesContinue,\n",
              "};\n",
              "})(self);\n",
              "</script> "
            ]
          },
          "metadata": {}
        },
        {
          "output_type": "stream",
          "name": "stdout",
          "text": [
            "Saving dirtydata2.csv to dirtydata2 (8).csv\n"
          ]
        }
      ]
    },
    {
      "cell_type": "code",
      "source": [
        "#define data frame\n",
        "df = pd.read_csv('dirtydata2.csv')"
      ],
      "metadata": {
        "id": "fNdJ6KpHAtCD"
      },
      "execution_count": 57,
      "outputs": []
    },
    {
      "cell_type": "code",
      "source": [
        "#ver como se contra o data frame\n",
        "print(df)"
      ],
      "metadata": {
        "colab": {
          "base_uri": "https://localhost:8080/"
        },
        "id": "QQ4jNR7nA5pJ",
        "outputId": "b63b39cd-7dbd-453c-f2e6-3601b4f8c9d0"
      },
      "execution_count": 58,
      "outputs": [
        {
          "output_type": "stream",
          "name": "stdout",
          "text": [
            "    Duration          Date  Pulse  Maxpulse  Calories\n",
            "0         60  '2020/12/01'    110     130.0     409.1\n",
            "1         60  '2020/12/02'    117     145.0     479.0\n",
            "2         60  '2020/12/03'    103     135.0     340.0\n",
            "3         45  '2020/12/04'    450     175.0     282.4\n",
            "4         45  '2020/12/05'    117     148.0     406.0\n",
            "5         60  '2020/12/06'    102       NaN     300.0\n",
            "6         60  '2020/12/07'    110     136.0    3740.0\n",
            "7        450  '2020/12/08'    104     134.0     253.3\n",
            "8         30           NaN    109     133.0     195.1\n",
            "9         60  '2020/12/10'     98     124.0     269.0\n",
            "10        60  '2020/12/11'    103     147.0     329.3\n",
            "11        60  '2020/12/12'    100     120.0     250.7\n",
            "12        60  '2020/12/12'    100     120.0     250.7\n",
            "13        60  '2020/12/13'    106     128.0     345.3\n",
            "14        60  '2020/12/14'    104     132.0     379.3\n",
            "15        60  '2020/12/15'     98     123.0     275.0\n",
            "16        60  '2020/12/16'     98     120.0     215.2\n",
            "17        60  '2020/12/17'     12     120.0     300.0\n",
            "18        45  '2020/12/18'     90     112.0       NaN\n",
            "19        60  '2020/12/19'    103     123.0     323.0\n",
            "20        45    '20201220'     97     125.0     243.0\n",
            "21        60  '2020/12/21'    108     131.0     364.2\n",
            "22        45           NaN    100     119.0     282.0\n",
            "23        60  '2020/12/23'    130     101.0     300.0\n",
            "24        45  '2020/12/24'    105     132.0     246.0\n",
            "25        60  '2020/12/25'    102     126.0     334.5\n",
            "26        60      20201226    100     120.0     250.0\n",
            "27        60  '2020/12/27'     92     118.0     241.0\n",
            "28        60  '2020/12/28'    103     132.0       NaN\n",
            "29        60  '2020/12/29'    100     132.0     280.0\n",
            "30        60  '2020/12/30'    102     129.0     380.3\n",
            "31        60  '2020/12/31'     92     115.0     243.0\n"
          ]
        }
      ]
    },
    {
      "cell_type": "code",
      "source": [
        "#infos do data frame\n",
        "df.info()"
      ],
      "metadata": {
        "colab": {
          "base_uri": "https://localhost:8080/"
        },
        "id": "u-XCpDcjI38M",
        "outputId": "10d47407-3dda-47b7-bbf1-2e4192605bf7"
      },
      "execution_count": 59,
      "outputs": [
        {
          "output_type": "stream",
          "name": "stdout",
          "text": [
            "<class 'pandas.core.frame.DataFrame'>\n",
            "RangeIndex: 32 entries, 0 to 31\n",
            "Data columns (total 5 columns):\n",
            " #   Column    Non-Null Count  Dtype  \n",
            "---  ------    --------------  -----  \n",
            " 0   Duration  32 non-null     int64  \n",
            " 1   Date      30 non-null     object \n",
            " 2   Pulse     32 non-null     int64  \n",
            " 3   Maxpulse  31 non-null     float64\n",
            " 4   Calories  30 non-null     float64\n",
            "dtypes: float64(2), int64(2), object(1)\n",
            "memory usage: 1.4+ KB\n"
          ]
        }
      ]
    },
    {
      "cell_type": "code",
      "source": [
        "df['Date'] = pd.to_datetime(df['Date'])"
      ],
      "metadata": {
        "id": "QcDYB8v3NfGJ"
      },
      "execution_count": 60,
      "outputs": []
    },
    {
      "cell_type": "code",
      "source": [
        "#remover dados\n",
        "df = df.dropna()"
      ],
      "metadata": {
        "id": "t-2CvSiDJbyn"
      },
      "execution_count": 61,
      "outputs": []
    },
    {
      "cell_type": "code",
      "source": [
        "#remover duplicatas\n",
        "df = df.drop_duplicates()"
      ],
      "metadata": {
        "id": "nNpnsIU8JY7u"
      },
      "execution_count": 62,
      "outputs": []
    },
    {
      "cell_type": "code",
      "source": [
        "#médias\n",
        "mean_Duration = df['Duration'].median()\n",
        "mean_Pulse = df['Pulse'].median()\n",
        "mean_MaxPulse = df['Maxpulse'].median()\n",
        "mean_Calories = df['Calories'].median()\n"
      ],
      "metadata": {
        "id": "yF3C1Z4AMRZE"
      },
      "execution_count": 63,
      "outputs": []
    },
    {
      "cell_type": "code",
      "source": [
        "#filtros\n",
        "filter_data = df['Date'].isnull()\n",
        "filter_Duration = df['Duration'] >=2*mean_Duration\n",
        "filter_Pulse = df['Pulse']>= 2*mean_Pulse\n",
        "filter_Pulse1 = df['Pulse']<=mean_Pulse/2\n",
        "filter_MaxPulse = df['Maxpulse']>= 2*mean_MaxPulse\n",
        "filter_Calories = df['Calories']>= 2*mean_Calories"
      ],
      "metadata": {
        "id": "pMfgglPiL9b9"
      },
      "execution_count": 64,
      "outputs": []
    },
    {
      "cell_type": "code",
      "source": [
        "#definições\n",
        "df.loc[filter_Duration==True,'Duration'] = mean_Duration\n",
        "df.loc[filter_Pulse==True,'Pulse'] = mean_Pulse\n",
        "df.loc[filter_Pulse1==True,'Pulse'] = mean_Pulse\n",
        "df.loc[filter_MaxPulse==True,'Maxpulse'] = mean_MaxPulse\n",
        "df.loc[filter_Calories==True,'Calories'] = mean_Calories\n"
      ],
      "metadata": {
        "id": "sgluplSxMYUg"
      },
      "execution_count": 65,
      "outputs": []
    },
    {
      "cell_type": "code",
      "source": [
        "#preenchimento final\n",
        "df['Duration'] = df['Duration'].fillna(mean_Duration)\n",
        "df['Pulse'] = df['Pulse'].fillna(mean_Pulse)\n",
        "df['Maxpulse'] = df['Maxpulse'].fillna(mean_MaxPulse)\n",
        "df['Calories'] = df['Calories'].fillna(mean_Calories)"
      ],
      "metadata": {
        "id": "T8m4ERC3MpTy"
      },
      "execution_count": 67,
      "outputs": []
    },
    {
      "cell_type": "code",
      "source": [
        "print(df)"
      ],
      "metadata": {
        "colab": {
          "base_uri": "https://localhost:8080/"
        },
        "id": "iUTmjErGL9j_",
        "outputId": "876be1d1-5ae6-410b-c52d-9c46dd5a7b58"
      },
      "execution_count": 68,
      "outputs": [
        {
          "output_type": "stream",
          "name": "stdout",
          "text": [
            "    Duration       Date  Pulse  Maxpulse  Calories\n",
            "0         60 2020-12-01    110     130.0     409.1\n",
            "1         60 2020-12-02    117     145.0     479.0\n",
            "2         60 2020-12-03    103     135.0     340.0\n",
            "3         45 2020-12-04    103     175.0     282.4\n",
            "4         45 2020-12-05    117     148.0     406.0\n",
            "6         60 2020-12-07    110     136.0     300.0\n",
            "7         60 2020-12-08    104     134.0     253.3\n",
            "9         60 2020-12-10     98     124.0     269.0\n",
            "10        60 2020-12-11    103     147.0     329.3\n",
            "11        60 2020-12-12    100     120.0     250.7\n",
            "13        60 2020-12-13    106     128.0     345.3\n",
            "14        60 2020-12-14    104     132.0     379.3\n",
            "15        60 2020-12-15     98     123.0     275.0\n",
            "16        60 2020-12-16     98     120.0     215.2\n",
            "17        60 2020-12-17    103     120.0     300.0\n",
            "19        60 2020-12-19    103     123.0     323.0\n",
            "20        45 2020-12-20     97     125.0     243.0\n",
            "21        60 2020-12-21    108     131.0     364.2\n",
            "23        60 2020-12-23    130     101.0     300.0\n",
            "24        45 2020-12-24    105     132.0     246.0\n",
            "25        60 2020-12-25    102     126.0     334.5\n",
            "26        60 2020-12-26    100     120.0     250.0\n",
            "27        60 2020-12-27     92     118.0     241.0\n",
            "29        60 2020-12-29    100     132.0     280.0\n",
            "30        60 2020-12-30    102     129.0     380.3\n",
            "31        60 2020-12-31     92     115.0     243.0\n"
          ]
        }
      ]
    }
  ]
}